{
 "cells": [
  {
   "cell_type": "code",
   "execution_count": 1,
   "metadata": {},
   "outputs": [],
   "source": [
    "import netCDF4\n",
    "import numpy as np\n",
    "import os\n",
    "import matplotlib.pyplot as plt\n",
    "import cv2\n",
    "from utils.preprocess_helpers import crop_center_square, transform_color, resize_image\n",
    "from patchify import patchify\n",
    "from datetime import timedelta\n",
    "import pandas as pd\n",
    "from ipywidgets import interact, FloatSlider\n",
    "import ipywidgets as widgets"
   ]
  },
  {
   "cell_type": "markdown",
   "metadata": {},
   "source": [
    "# Preprocessing for Model Training\n",
    "This notebook uses IR data in netCDF4 file format and annotated masks.\n",
    "\n",
    "Image Preparation Steps:\n",
    "- center cropping (to an image size of 480x480).\n",
    "- grayscale conversion using matplotlib's 'gray' colorscale (training directly with grayscale normalized image matrices resulted in bad training performance).\n",
    "\n",
    "Mask Preparation Steps:\n",
    "- transform grascale values to 0 : melt pond, 1 : sea ice, 2 : ocean.\n",
    "\n",
    "Preprocessed images and masks will be stored as numpy arrays in the ```data/``` folder. Those will later be used in the model training function."
   ]
  },
  {
   "cell_type": "code",
   "execution_count": 2,
   "metadata": {},
   "outputs": [],
   "source": [
    "# replace with your data paths\n",
    "flight9_dir = 'E:/polar/code/data/flight9/IRdata_ATWAICE_processed_220718_142920.nc'\n",
    "flight16_dir = 'E:/polar/code/data/flight16/IRdata_ATWAICE_processed_220730_111439.nc'\n",
    "annotated_mas_dir = 'E:/polar/code/data/ir/entire/original_size/msks_prep/'\n",
    "\n",
    "# replace with your desired storage path for preprocessed images\n",
    "preprocessed_ims_dir = 'E:/polar/code/data/ir/entire/original_size/ims_test03/'\n",
    "\n",
    "# indeces of preselected training images\n",
    "idx_9 = [2416, 2380, 2424, 2468, 2476, 2708, 3700, 3884, 4568, 1104]\n",
    "idx_16 = [100, 200, 256, 64, 260, 552]"
   ]
  },
  {
   "cell_type": "markdown",
   "metadata": {},
   "source": [
    "### Image Preprocessing Flight 9"
   ]
  },
  {
   "cell_type": "code",
   "execution_count": 3,
   "metadata": {},
   "outputs": [],
   "source": [
    "ds = netCDF4.Dataset(flight9_dir)\n",
    "imgs_9 = ds.variables['Ts'][:]\n",
    "\n",
    "tmp = []\n",
    "\n",
    "for idx in idx_9:\n",
    "    im = imgs_9[idx]\n",
    "    im = crop_center_square(im)\n",
    "    tmp.append(im)\n",
    "\n",
    "imgs_train_9 = np.array(tmp)\n",
    "\n",
    "for idx, img in enumerate(imgs_train_9):\n",
    "    plt.imsave(os.path.join(preprocessed_ims_dir, '{}.png'.format(idx)), img, cmap='gray')"
   ]
  },
  {
   "cell_type": "markdown",
   "metadata": {},
   "source": [
    "### Image Preprocessing Flight 16\n",
    "Due to memory constraints, it might be necessary to restart the kernel and start again without executing the 'Image Preprocessing Flight 9' code chunk."
   ]
  },
  {
   "cell_type": "code",
   "execution_count": 4,
   "metadata": {},
   "outputs": [],
   "source": [
    "ds_16 = netCDF4.Dataset(flight16_dir)\n",
    "imgs_16 = ds_16.variables['Ts'][:]\n",
    "\n",
    "tmp = []\n",
    "\n",
    "for idx in idx_16:\n",
    "    im = imgs_16[idx]\n",
    "    im = crop_center_square(im)\n",
    "    tmp.append(im)\n",
    "\n",
    "imgs_train_16 = np.array(tmp)\n",
    "\n",
    "for idx, img in enumerate(imgs_train_16):\n",
    "    # store in the same folder as previous flight, with continuing indeces as names\n",
    "    plt.imsave(os.path.join(preprocessed_ims_dir, '{}.png'.format(idx + len(idx_9))), img, cmap='gray')"
   ]
  },
  {
   "cell_type": "code",
   "execution_count": 10,
   "metadata": {},
   "outputs": [],
   "source": [
    "imgs_png = []\n",
    "\n",
    "for im in os.listdir(preprocessed_ims_dir):\n",
    "    path = os.path.join(preprocessed_ims_dir, im)\n",
    "    im = cv2.imread(path, 0)\n",
    "\n",
    "    imgs_png.append(im)\n",
    "\n",
    "imgs = np.array(imgs_png)\n",
    "\n",
    "np.save('./data/train_images.npy', imgs)"
   ]
  },
  {
   "cell_type": "markdown",
   "metadata": {},
   "source": [
    "### Mask Preprocessing"
   ]
  },
  {
   "cell_type": "code",
   "execution_count": 7,
   "metadata": {},
   "outputs": [
    {
     "name": "stdout",
     "output_type": "stream",
     "text": [
      "[0 1 2]\n"
     ]
    }
   ],
   "source": [
    "masks_train = []\n",
    "\n",
    "for f in os.listdir(annotated_mas_dir):\n",
    "    path = os.path.join(annotated_mas_dir, f)\n",
    "    mask = cv2.imread(path, 0)\n",
    "    \n",
    "    if f == '7.png':\n",
    "        mask[mask==0] = 0\n",
    "        mask[mask==76] = 1\n",
    "        mask[mask==255] = 2\n",
    "        masks_train.append(mask)\n",
    "\n",
    "    else:\n",
    "        mask = transform_color(mask)\n",
    "        masks_train.append(mask)\n",
    "\n",
    "masks = np.array(masks_train)\n",
    "print(np.unique(masks))\n",
    "\n",
    "np.save('./data/train_masks.npy', masks)"
   ]
  },
  {
   "cell_type": "markdown",
   "metadata": {},
   "source": [
    "### Tests\n",
    "To see if images and masks match"
   ]
  },
  {
   "cell_type": "code",
   "execution_count": 3,
   "metadata": {},
   "outputs": [
    {
     "data": {
      "application/vnd.jupyter.widget-view+json": {
       "model_id": "f7e181ca65c3482e87a225eb7c655e41",
       "version_major": 2,
       "version_minor": 0
      },
      "text/plain": [
       "interactive(children=(FloatSlider(value=0.5, description='Alpha Value', max=1.0, step=0.01), Output()), _dom_c…"
      ]
     },
     "metadata": {},
     "output_type": "display_data"
    },
    {
     "data": {
      "text/plain": [
       "<function __main__.update_alpha(value)>"
      ]
     },
     "execution_count": 3,
     "metadata": {},
     "output_type": "execute_result"
    }
   ],
   "source": [
    "# slider for interaction\n",
    "slider = FloatSlider(value=0.5, min=0, max=1, step=0.01, description='Alpha Value')\n",
    "\n",
    "# load data\n",
    "images = np.load('./data/train_images.npy')\n",
    "masks = np.load('./data/train_masks.npy')\n",
    "\n",
    "def update_alpha(value):\n",
    "    \"\"\"\n",
    "    Overlay and plot images and masks.\n",
    "\n",
    "    Parameters:\n",
    "    -----------\n",
    "        value : float\n",
    "            alpha value\n",
    "    \"\"\"\n",
    "    fig, axes = plt.subplots(5, 3, figsize=(12, 12))\n",
    "    for i in range(15):\n",
    "        axes[i // 3, i % 3].imshow(images[i])\n",
    "        axes[i // 3, i % 3].imshow(masks[i], alpha=value)\n",
    "        axes[i // 3, i % 3].axis('off')\n",
    "\n",
    "    plt.subplots_adjust(left=0, bottom=0, right=1, top=1, hspace=0.1, wspace=0.1)\n",
    "    fig.canvas.draw()\n",
    "\n",
    "# interaction set up\n",
    "interact(update_alpha, value=slider)"
   ]
  }
 ],
 "metadata": {
  "kernelspec": {
   "display_name": "extended",
   "language": "python",
   "name": "python3"
  },
  "language_info": {
   "codemirror_mode": {
    "name": "ipython",
    "version": 3
   },
   "file_extension": ".py",
   "mimetype": "text/x-python",
   "name": "python",
   "nbconvert_exporter": "python",
   "pygments_lexer": "ipython3",
   "version": "3.10.0"
  }
 },
 "nbformat": 4,
 "nbformat_minor": 2
}
